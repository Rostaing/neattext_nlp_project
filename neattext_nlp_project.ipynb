{
 "cells": [
  {
   "cell_type": "code",
   "execution_count": 1,
   "id": "12b8c92c-ff77-4ae6-b04c-12c51ee2ccd2",
   "metadata": {},
   "outputs": [],
   "source": [
    "import numpy as np\n",
    "import pandas as pd\n",
    "import matplotlib.pyplot as plt\n",
    "import seaborn as sns\n",
    "import petl as etl\n",
    "import neattext as nt\n",
    "import texthero as hero"
   ]
  },
  {
   "cell_type": "code",
   "execution_count": 2,
   "id": "6fd3a1e2-ce5d-4765-b343-a93d510f9c9a",
   "metadata": {},
   "outputs": [
    {
     "data": {
      "text/plain": [
       "'Paris est situÃ© dans le nord de la France\\nLa petite ville de Corte se trouve dans le dÃ©partement f'"
      ]
     },
     "execution_count": 2,
     "metadata": {},
     "output_type": "execute_result"
    }
   ],
   "source": [
    "text = nt.TextFrame().read_txt(\"villes.txt\")\n",
    "text.head(100)"
   ]
  },
  {
   "cell_type": "code",
   "execution_count": 3,
   "id": "913cd907-c54e-4ef2-ad05-81043f8f057a",
   "metadata": {},
   "outputs": [
    {
     "data": {
      "text/plain": [
       "\"nication entre la mer MÃ©diterranÃ©e et l'ocÃ©an Atlantique.\\n\\nking2023@06\\ndata@gmail.com\\nia@yahoo.fr\""
      ]
     },
     "execution_count": 3,
     "metadata": {},
     "output_type": "execute_result"
    }
   ],
   "source": [
    "text.tail(100)"
   ]
  },
  {
   "cell_type": "code",
   "execution_count": 4,
   "id": "cf64fe4c-b1a9-4710-ab07-eb3e3ba55628",
   "metadata": {},
   "outputs": [
    {
     "name": "stdout",
     "output_type": "stream",
     "text": [
      "Key      Value          \n",
      "Length  : 970            \n",
      "vowels  : 306            \n",
      "consonants: 396            \n",
      "stopwords: 0              \n",
      "punctuations: 35             \n",
      "special_char: 35             \n",
      "tokens(whitespace): 160            \n",
      "tokens(words): 199            \n"
     ]
    }
   ],
   "source": [
    "text.describe()"
   ]
  },
  {
   "cell_type": "code",
   "execution_count": 5,
   "id": "7dbef04d-789e-4f67-a402-366201cc2802",
   "metadata": {},
   "outputs": [
    {
     "data": {
      "text/plain": [
       "Counter({'Paris': 1,\n",
       "         'est': 9,\n",
       "         'situÃ': 5,\n",
       "         'dans': 4,\n",
       "         'le': 5,\n",
       "         'nord': 3,\n",
       "         'de': 17,\n",
       "         'la': 15,\n",
       "         'France': 4,\n",
       "         'La': 1,\n",
       "         'petite': 1,\n",
       "         'ville': 3,\n",
       "         'Corte': 2,\n",
       "         'se': 1,\n",
       "         'trouve': 1,\n",
       "         'dÃ': 4,\n",
       "         'partement': 4,\n",
       "         'franÃ': 2,\n",
       "         'ais': 1,\n",
       "         'Haute': 2,\n",
       "         'Corse': 2,\n",
       "         '2B': 1,\n",
       "         'en': 4,\n",
       "         'rÃ': 2,\n",
       "         'gion': 2,\n",
       "         'compte': 1,\n",
       "         'environ': 1,\n",
       "         '6': 1,\n",
       "         '800': 1,\n",
       "         'habitants': 1,\n",
       "         'sa': 1,\n",
       "         'superficie': 1,\n",
       "         '149': 1,\n",
       "         '27': 1,\n",
       "         'kmÂ²': 1,\n",
       "         'Son': 1,\n",
       "         'altitude': 1,\n",
       "         'par': 1,\n",
       "         'rapport': 1,\n",
       "         'au': 3,\n",
       "         'niveau': 1,\n",
       "         'mer': 2,\n",
       "         'comprise': 1,\n",
       "         'entre': 2,\n",
       "         '299': 1,\n",
       "         'et': 2,\n",
       "         '2626': 1,\n",
       "         'm': 1,\n",
       "         'Brest': 1,\n",
       "         'une': 3,\n",
       "         'portuaire': 1,\n",
       "         'Bretagne': 1,\n",
       "         'ouest': 2,\n",
       "         'Nice': 1,\n",
       "         'capitale': 1,\n",
       "         'du': 3,\n",
       "         'des': 2,\n",
       "         'Alpes': 1,\n",
       "         'Maritimes': 1,\n",
       "         'sur': 3,\n",
       "         'CÃ': 1,\n",
       "         'te': 1,\n",
       "         'd': 1,\n",
       "         'Azur': 1,\n",
       "         'Elle': 1,\n",
       "         'e': 6,\n",
       "         'littoral': 1,\n",
       "         'galets': 1,\n",
       "         'baie': 1,\n",
       "         'Anges': 1,\n",
       "         'Saint': 1,\n",
       "         'Ã': 2,\n",
       "         'tienne': 1,\n",
       "         'Rouvray': 1,\n",
       "         'commune': 1,\n",
       "         'aise': 1,\n",
       "         'Seine': 1,\n",
       "         'Maritime': 1,\n",
       "         'Normandie': 1,\n",
       "         'Angers': 1,\n",
       "         'l': 3,\n",
       "         'cÃ': 1,\n",
       "         'tÃ': 1,\n",
       "         'Maine': 1,\n",
       "         'pÃ': 1,\n",
       "         'riphÃ': 1,\n",
       "         'rie': 1,\n",
       "         'vallÃ': 1,\n",
       "         'Loire': 1,\n",
       "         'oulouse': 1,\n",
       "         'Midi': 1,\n",
       "         'Garonne': 1,\n",
       "         'axe': 1,\n",
       "         'communication': 1,\n",
       "         'MÃ': 1,\n",
       "         'diterranÃ': 1,\n",
       "         'ocÃ': 1,\n",
       "         'an': 1,\n",
       "         'Atlantique': 1,\n",
       "         'king2023': 1,\n",
       "         '06': 1,\n",
       "         'data': 1,\n",
       "         'gmail': 1,\n",
       "         'com': 1,\n",
       "         'ia': 1,\n",
       "         'yahoo': 1,\n",
       "         'fr': 1})"
      ]
     },
     "execution_count": 5,
     "metadata": {},
     "output_type": "execute_result"
    }
   ],
   "source": [
    "text.bow()"
   ]
  },
  {
   "cell_type": "code",
   "execution_count": 6,
   "id": "c401d626-aac6-4b87-89f2-832f021af85e",
   "metadata": {},
   "outputs": [
    {
     "data": {
      "text/plain": [
       "{'Length of Text': 970,\n",
       " 'Num of Vowels': 306,\n",
       " 'Num of Consonants': 396,\n",
       " 'Num of Stopwords': 0,\n",
       " 'Stats of Vowels': {'a': 75, 'e': 119, 'i': 47, 'o': 32, 'u': 33},\n",
       " 'Stats of Consonants': {'b': 5,\n",
       "  'c': 20,\n",
       "  'd': 39,\n",
       "  'f': 8,\n",
       "  'g': 9,\n",
       "  'h': 5,\n",
       "  'j': 0,\n",
       "  'k': 2,\n",
       "  'l': 44,\n",
       "  'm': 24,\n",
       "  'n': 53,\n",
       "  'p': 17,\n",
       "  'q': 1,\n",
       "  'r': 53,\n",
       "  's': 45,\n",
       "  't': 59,\n",
       "  'v': 8,\n",
       "  'w': 0,\n",
       "  'x': 1,\n",
       "  'y': 2,\n",
       "  'z': 1}}"
      ]
     },
     "execution_count": 6,
     "metadata": {},
     "output_type": "execute_result"
    }
   ],
   "source": [
    "text.word_stats()"
   ]
  },
  {
   "cell_type": "code",
   "execution_count": 7,
   "id": "66b4e648-97ef-477c-8eb8-350c85a14f39",
   "metadata": {},
   "outputs": [
    {
     "data": {
      "text/plain": [
       "['king2023@06', 'data@gmail.com', 'ia@yahoo.fr']"
      ]
     },
     "execution_count": 7,
     "metadata": {},
     "output_type": "execute_result"
    }
   ],
   "source": [
    "email = nt.extract_emails(str(text))\n",
    "email"
   ]
  },
  {
   "cell_type": "code",
   "execution_count": 8,
   "id": "3541b1ca-5ce0-42bf-89ef-77965c5751bf",
   "metadata": {},
   "outputs": [
    {
     "data": {
      "text/plain": [
       "['2', '6', '800', '149', '27', '299', '2626', '2023', '06']"
      ]
     },
     "execution_count": 8,
     "metadata": {},
     "output_type": "execute_result"
    }
   ],
   "source": [
    "phones = nt.extract_numbers(str(text))\n",
    "phones"
   ]
  },
  {
   "cell_type": "code",
   "execution_count": 9,
   "id": "71bfd43e-6158-4861-b3ea-8a0a353b87f4",
   "metadata": {},
   "outputs": [
    {
     "data": {
      "text/plain": [
       "['@', '@', '@']"
      ]
     },
     "execution_count": 9,
     "metadata": {},
     "output_type": "execute_result"
    }
   ],
   "source": [
    "pat = nt.extract_pattern(str(text), term_pattern='@')\n",
    "pat"
   ]
  },
  {
   "cell_type": "code",
   "execution_count": 10,
   "id": "8e2c84b4-9c69-452f-80f2-305f6603abdc",
   "metadata": {},
   "outputs": [
    {
     "data": {
      "text/plain": [
       "['Ã', 'ville', 'ville']"
      ]
     },
     "execution_count": 10,
     "metadata": {},
     "output_type": "execute_result"
    }
   ],
   "source": [
    "text.nlongest()"
   ]
  },
  {
   "cell_type": "code",
   "execution_count": 11,
   "id": "f412d197-a714-4e29-be48-e155f8ff15fc",
   "metadata": {},
   "outputs": [
    {
     "data": {
      "text/plain": [
       "['14927', '2626', '299']"
      ]
     },
     "execution_count": 11,
     "metadata": {},
     "output_type": "execute_result"
    }
   ],
   "source": [
    "text.nshortest()"
   ]
  },
  {
   "cell_type": "code",
   "execution_count": 12,
   "id": "c356772d-9e59-4008-a8ab-e586816b772d",
   "metadata": {},
   "outputs": [],
   "source": [
    "from neattext.functions import remove_accents, remove_bad_quotes, remove_currencies, remove_currency_symbols, remove_dates, remove_emails, remove_hashtags, remove_puncts, remove_special_characters, remove_urls"
   ]
  },
  {
   "cell_type": "code",
   "execution_count": 13,
   "id": "ed5f9582-d19c-4f71-8f12-32dc316b250b",
   "metadata": {},
   "outputs": [],
   "source": [
    "from neattext.pipeline import TextPipeline"
   ]
  },
  {
   "cell_type": "code",
   "execution_count": 14,
   "id": "a4f7f3af-a39d-4a0b-ae67-b51b0bb4f60b",
   "metadata": {},
   "outputs": [
    {
     "data": {
      "text/plain": [
       "'Paris est situA dans le nord de la FranceLa petite ville de Corte se trouve dans le dApartement franAais de la HauteCorse 2B en rAgion Corse Corte compte environ 6 800 habitants sa superficie est de 14927 kmA2 Son altitude par rapport au niveau de la mer est comprise entre 299 et 2626 mBrest est une ville portuaire en Bretagne au nordouest de la FranceNice est la capitale du dApartement des AlpesMaritimes sur la CA te dAzur Elle est situAe sur le littoral de galets de la baie des AngesSaintAtienneduRouvray est une commune franAaise situAe dans le dApartement de la SeineMaritime en rAgion NormandieAngers est une ville de louest de la France situAe A  cA tA de la Maine en pAriphArie de la vallAe de la Loireoulouse est situAe dans le Midi de la France au nord du dApartement de la HauteGaronne sur laxe de communication entre la mer MAditerranAe et locAan Atlantique'"
      ]
     },
     "execution_count": 14,
     "metadata": {},
     "output_type": "execute_result"
    }
   ],
   "source": [
    "p = TextPipeline(steps=[remove_accents, remove_bad_quotes, remove_currencies, remove_currency_symbols, remove_dates, remove_emails, remove_hashtags, remove_puncts, remove_special_characters, remove_urls])\n",
    "custom_pipeline = p.fit(str(text))\n",
    "custom_pipeline"
   ]
  },
  {
   "cell_type": "code",
   "execution_count": 15,
   "id": "42ca69dc-7621-4ef4-ad88-c59b60462a90",
   "metadata": {},
   "outputs": [
    {
     "data": {
      "text/plain": [
       "TextFrame(text=\"Paris est situA dans le nord de la FranceLa petite ville de Corte se trouve dans le dApartement franAais de la HauteCorse 2B en rAgion Corse Corte compte environ 6 800 habitants sa superficie est de 14927 kmA2 Son altitude par rapport au niveau de la mer est comprise entre 299 et 2626 mBrest est une ville portuaire en Bretagne au nordouest de la FranceNice est la capitale du dApartement des AlpesMaritimes sur la CA te dAzur Elle est situAe sur le littoral de galets de la baie des AngesSaintAtienneduRouvray est une commune franAaise situAe dans le dApartement de la SeineMaritime en rAgion NormandieAngers est une ville de louest de la France situAe A  cA tA de la Maine en pAriphArie de la vallAe de la Loireoulouse est situAe dans le Midi de la France au nord du dApartement de la HauteGaronne sur laxe de communication entre la mer MAditerranAe et locAan Atlantique\")"
      ]
     },
     "execution_count": 15,
     "metadata": {},
     "output_type": "execute_result"
    }
   ],
   "source": [
    "text_data = nt.TextFrame(custom_pipeline)\n",
    "text_data"
   ]
  },
  {
   "cell_type": "code",
   "execution_count": 16,
   "id": "8bed24f8-6dba-4dde-8cae-63bc9a73f0cf",
   "metadata": {},
   "outputs": [
    {
     "name": "stdout",
     "output_type": "stream",
     "text": [
      "Key      Value          \n",
      "Length  : 873            \n",
      "vowels  : 320            \n",
      "consonants: 382            \n",
      "stopwords: 3              \n",
      "punctuations: 0              \n",
      "special_char: 0              \n",
      "tokens(whitespace): 153            \n",
      "tokens(words): 153            \n"
     ]
    }
   ],
   "source": [
    "text_data.describe()"
   ]
  },
  {
   "cell_type": "code",
   "execution_count": 17,
   "id": "7a1d995d-2601-481e-934e-61d1de0822a0",
   "metadata": {},
   "outputs": [
    {
     "data": {
      "text/plain": [
       "TextFrame(text=\"Paris situA nord FranceLa petite ville Corte trouve dApartement franAais HauteCorse 2B rAgion Corse Corte compte 6 800 habitants superficie 14927 kmA2 altitude rapport niveau mer comprise 299 2626 mBrest ville portuaire Bretagne nordouest FranceNice capitale dApartement AlpesMaritimes CA dAzur situAe littoral galets baie AngesSaintAtienneduRouvray commune franAaise situAe dApartement SeineMaritime rAgion NormandieAngers ville louest France situAe cA Maine pAriphArie vallAe Loireoulouse situAe Midi France nord dApartement HauteGaronne laxe communication mer MAditerranAe locAan Atlantique\")"
      ]
     },
     "execution_count": 17,
     "metadata": {},
     "output_type": "execute_result"
    }
   ],
   "source": [
    "text_stopwords = text_data.remove_stopwords(lang='fr')\n",
    "text_stopwords"
   ]
  },
  {
   "cell_type": "code",
   "execution_count": 18,
   "id": "574ae8ad-ce35-4b40-9ee2-baf197ab0ccc",
   "metadata": {},
   "outputs": [
    {
     "data": {
      "text/html": [
       "<div>\n",
       "<style scoped>\n",
       "    .dataframe tbody tr th:only-of-type {\n",
       "        vertical-align: middle;\n",
       "    }\n",
       "\n",
       "    .dataframe tbody tr th {\n",
       "        vertical-align: top;\n",
       "    }\n",
       "\n",
       "    .dataframe thead th {\n",
       "        text-align: right;\n",
       "    }\n",
       "</style>\n",
       "<table border=\"1\" class=\"dataframe\">\n",
       "  <thead>\n",
       "    <tr style=\"text-align: right;\">\n",
       "      <th></th>\n",
       "      <th>Category</th>\n",
       "      <th>Message</th>\n",
       "    </tr>\n",
       "  </thead>\n",
       "  <tbody>\n",
       "    <tr>\n",
       "      <th>0</th>\n",
       "      <td>ham</td>\n",
       "      <td>Go until jurong point, crazy.. Available only ...</td>\n",
       "    </tr>\n",
       "    <tr>\n",
       "      <th>1</th>\n",
       "      <td>ham</td>\n",
       "      <td>Ok lar... Joking wif u oni...</td>\n",
       "    </tr>\n",
       "    <tr>\n",
       "      <th>2</th>\n",
       "      <td>spam</td>\n",
       "      <td>Free entry in 2 a wkly comp to win FA Cup fina...</td>\n",
       "    </tr>\n",
       "    <tr>\n",
       "      <th>3</th>\n",
       "      <td>ham</td>\n",
       "      <td>U dun say so early hor... U c already then say...</td>\n",
       "    </tr>\n",
       "    <tr>\n",
       "      <th>4</th>\n",
       "      <td>ham</td>\n",
       "      <td>Nah I don't think he goes to usf, he lives aro...</td>\n",
       "    </tr>\n",
       "  </tbody>\n",
       "</table>\n",
       "</div>"
      ],
      "text/plain": [
       "  Category                                            Message\n",
       "0      ham  Go until jurong point, crazy.. Available only ...\n",
       "1      ham                      Ok lar... Joking wif u oni...\n",
       "2     spam  Free entry in 2 a wkly comp to win FA Cup fina...\n",
       "3      ham  U dun say so early hor... U c already then say...\n",
       "4      ham  Nah I don't think he goes to usf, he lives aro..."
      ]
     },
     "execution_count": 18,
     "metadata": {},
     "output_type": "execute_result"
    }
   ],
   "source": [
    "df = pd.read_csv(\"mail_data.csv\")\n",
    "df.head()"
   ]
  },
  {
   "cell_type": "code",
   "execution_count": 19,
   "id": "6f7f39ab-f76a-4cd6-b1c9-b7939312a0a0",
   "metadata": {},
   "outputs": [
    {
     "data": {
      "text/plain": [
       "TextFrame(text=\"0       Go until jurong point, crazy.. Available only ...\n",
       "1                           Ok lar... Joking wif u oni...\n",
       "2       Free entry in 2 a wkly comp to win FA Cup fina...\n",
       "3       U dun say so early hor... U c already then say...\n",
       "4       Nah I don't think he goes to usf, he lives aro...\n",
       "                              ...                        \n",
       "5567    This is the 2nd time we have tried 2 contact u...\n",
       "5568                 Will ü b going to esplanade fr home?\n",
       "5569    Pity, * was in mood for that. So...any other s...\n",
       "5570    The guy did some bitching but I acted like i'd...\n",
       "5571                           Rofl. Its true to its name\n",
       "Name: Message, Length: 5572, dtype: object\")"
      ]
     },
     "execution_count": 19,
     "metadata": {},
     "output_type": "execute_result"
    }
   ],
   "source": [
    "message = nt.TextFrame(str(df[\"Message\"]))\n",
    "message"
   ]
  },
  {
   "cell_type": "code",
   "execution_count": 20,
   "id": "b81d3590-603f-4990-805b-2aab6e5303b5",
   "metadata": {},
   "outputs": [
    {
     "name": "stdout",
     "output_type": "stream",
     "text": [
      "Key      Value          \n",
      "Length  : 680            \n",
      "vowels  : 126            \n",
      "consonants: 205            \n",
      "stopwords: 35             \n",
      "punctuations: 52             \n",
      "special_char: 52             \n",
      "tokens(whitespace): 110            \n",
      "tokens(words): 110            \n"
     ]
    }
   ],
   "source": [
    "message.describe()"
   ]
  },
  {
   "cell_type": "code",
   "execution_count": 21,
   "id": "35ed3c10-fc84-4292-b96e-d5a90094f788",
   "metadata": {},
   "outputs": [
    {
     "name": "stdout",
     "output_type": "stream",
     "text": [
      "['0', 'Go', 'until', 'jurong', 'point,']\n",
      "['Go', 'until', 'jurong', 'point,', 'crazy..']\n",
      "['until', 'jurong', 'point,', 'crazy..', 'Available']\n",
      "['jurong', 'point,', 'crazy..', 'Available', 'only']\n",
      "['point,', 'crazy..', 'Available', 'only', '...']\n",
      "['crazy..', 'Available', 'only', '...', '1']\n",
      "['Available', 'only', '...', '1', 'Ok']\n",
      "['only', '...', '1', 'Ok', 'lar...']\n",
      "['...', '1', 'Ok', 'lar...', 'Joking']\n",
      "['1', 'Ok', 'lar...', 'Joking', 'wif']\n",
      "['Ok', 'lar...', 'Joking', 'wif', 'u']\n",
      "['lar...', 'Joking', 'wif', 'u', 'oni...']\n",
      "['Joking', 'wif', 'u', 'oni...', '2']\n",
      "['wif', 'u', 'oni...', '2', 'Free']\n",
      "['u', 'oni...', '2', 'Free', 'entry']\n",
      "['oni...', '2', 'Free', 'entry', 'in']\n",
      "['2', 'Free', 'entry', 'in', '2']\n",
      "['Free', 'entry', 'in', '2', 'a']\n",
      "['entry', 'in', '2', 'a', 'wkly']\n",
      "['in', '2', 'a', 'wkly', 'comp']\n",
      "['2', 'a', 'wkly', 'comp', 'to']\n",
      "['a', 'wkly', 'comp', 'to', 'win']\n",
      "['wkly', 'comp', 'to', 'win', 'FA']\n",
      "['comp', 'to', 'win', 'FA', 'Cup']\n",
      "['to', 'win', 'FA', 'Cup', 'fina...']\n",
      "['win', 'FA', 'Cup', 'fina...', '3']\n",
      "['FA', 'Cup', 'fina...', '3', 'U']\n",
      "['Cup', 'fina...', '3', 'U', 'dun']\n",
      "['fina...', '3', 'U', 'dun', 'say']\n",
      "['3', 'U', 'dun', 'say', 'so']\n",
      "['U', 'dun', 'say', 'so', 'early']\n",
      "['dun', 'say', 'so', 'early', 'hor...']\n",
      "['say', 'so', 'early', 'hor...', 'U']\n",
      "['so', 'early', 'hor...', 'U', 'c']\n",
      "['early', 'hor...', 'U', 'c', 'already']\n",
      "['hor...', 'U', 'c', 'already', 'then']\n",
      "['U', 'c', 'already', 'then', 'say...']\n",
      "['c', 'already', 'then', 'say...', '4']\n",
      "['already', 'then', 'say...', '4', 'Nah']\n",
      "['then', 'say...', '4', 'Nah', 'I']\n",
      "['say...', '4', 'Nah', 'I', \"don't\"]\n",
      "['4', 'Nah', 'I', \"don't\", 'think']\n",
      "['Nah', 'I', \"don't\", 'think', 'he']\n",
      "['I', \"don't\", 'think', 'he', 'goes']\n",
      "[\"don't\", 'think', 'he', 'goes', 'to']\n",
      "['think', 'he', 'goes', 'to', 'usf,']\n",
      "['he', 'goes', 'to', 'usf,', 'he']\n",
      "['goes', 'to', 'usf,', 'he', 'lives']\n",
      "['to', 'usf,', 'he', 'lives', 'aro...']\n",
      "['usf,', 'he', 'lives', 'aro...', '...']\n",
      "['he', 'lives', 'aro...', '...', '5567']\n",
      "['lives', 'aro...', '...', '5567', 'This']\n",
      "['aro...', '...', '5567', 'This', 'is']\n",
      "['...', '5567', 'This', 'is', 'the']\n",
      "['5567', 'This', 'is', 'the', '2nd']\n",
      "['This', 'is', 'the', '2nd', 'time']\n",
      "['is', 'the', '2nd', 'time', 'we']\n",
      "['the', '2nd', 'time', 'we', 'have']\n",
      "['2nd', 'time', 'we', 'have', 'tried']\n",
      "['time', 'we', 'have', 'tried', '2']\n",
      "['we', 'have', 'tried', '2', 'contact']\n",
      "['have', 'tried', '2', 'contact', 'u...']\n",
      "['tried', '2', 'contact', 'u...', '5568']\n",
      "['2', 'contact', 'u...', '5568', 'Will']\n",
      "['contact', 'u...', '5568', 'Will', 'ü']\n",
      "['u...', '5568', 'Will', 'ü', 'b']\n",
      "['5568', 'Will', 'ü', 'b', 'going']\n",
      "['Will', 'ü', 'b', 'going', 'to']\n",
      "['ü', 'b', 'going', 'to', 'esplanade']\n",
      "['b', 'going', 'to', 'esplanade', 'fr']\n",
      "['going', 'to', 'esplanade', 'fr', 'home?']\n",
      "['to', 'esplanade', 'fr', 'home?', '5569']\n",
      "['esplanade', 'fr', 'home?', '5569', 'Pity,']\n",
      "['fr', 'home?', '5569', 'Pity,', '*']\n",
      "['home?', '5569', 'Pity,', '*', 'was']\n",
      "['5569', 'Pity,', '*', 'was', 'in']\n",
      "['Pity,', '*', 'was', 'in', 'mood']\n",
      "['*', 'was', 'in', 'mood', 'for']\n",
      "['was', 'in', 'mood', 'for', 'that.']\n",
      "['in', 'mood', 'for', 'that.', 'So...any']\n",
      "['mood', 'for', 'that.', 'So...any', 'other']\n",
      "['for', 'that.', 'So...any', 'other', 's...']\n",
      "['that.', 'So...any', 'other', 's...', '5570']\n",
      "['So...any', 'other', 's...', '5570', 'The']\n",
      "['other', 's...', '5570', 'The', 'guy']\n",
      "['s...', '5570', 'The', 'guy', 'did']\n",
      "['5570', 'The', 'guy', 'did', 'some']\n",
      "['The', 'guy', 'did', 'some', 'bitching']\n",
      "['guy', 'did', 'some', 'bitching', 'but']\n",
      "['did', 'some', 'bitching', 'but', 'I']\n",
      "['some', 'bitching', 'but', 'I', 'acted']\n",
      "['bitching', 'but', 'I', 'acted', 'like']\n",
      "['but', 'I', 'acted', 'like', \"i'd...\"]\n",
      "['I', 'acted', 'like', \"i'd...\", '5571']\n",
      "['acted', 'like', \"i'd...\", '5571', 'Rofl.']\n",
      "['like', \"i'd...\", '5571', 'Rofl.', 'Its']\n",
      "[\"i'd...\", '5571', 'Rofl.', 'Its', 'true']\n",
      "['5571', 'Rofl.', 'Its', 'true', 'to']\n",
      "['Rofl.', 'Its', 'true', 'to', 'its']\n",
      "['Its', 'true', 'to', 'its', 'name']\n",
      "['true', 'to', 'its', 'name', 'Name:']\n",
      "['to', 'its', 'name', 'Name:', 'Message,']\n",
      "['its', 'name', 'Name:', 'Message,', 'Length:']\n",
      "['name', 'Name:', 'Message,', 'Length:', '5572,']\n",
      "['Name:', 'Message,', 'Length:', '5572,', 'dtype:']\n",
      "['Message,', 'Length:', '5572,', 'dtype:', 'object']\n"
     ]
    }
   ],
   "source": [
    "message.ngrams(5)"
   ]
  },
  {
   "cell_type": "code",
   "execution_count": 22,
   "id": "4b302e4f-315b-4079-a924-215e665aa7b2",
   "metadata": {},
   "outputs": [
    {
     "data": {
      "text/plain": [
       "{'0': 0.3333333333333333,\n",
       " 'Go': 0.3333333333333333,\n",
       " 'jurong': 0.3333333333333333,\n",
       " 'point,': 0.3333333333333333,\n",
       " 'crazy..': 0.3333333333333333,\n",
       " 'Available': 0.3333333333333333,\n",
       " '...': 0.6666666666666666,\n",
       " '1': 0.3333333333333333,\n",
       " 'Ok': 0.3333333333333333,\n",
       " 'lar...': 0.3333333333333333,\n",
       " 'Joking': 0.3333333333333333,\n",
       " 'wif': 0.3333333333333333,\n",
       " 'u': 0.3333333333333333,\n",
       " 'oni...': 0.3333333333333333,\n",
       " '2': 1.0,\n",
       " 'Free': 0.3333333333333333,\n",
       " 'entry': 0.3333333333333333,\n",
       " 'wkly': 0.3333333333333333,\n",
       " 'comp': 0.3333333333333333,\n",
       " 'win': 0.3333333333333333,\n",
       " 'FA': 0.3333333333333333,\n",
       " 'Cup': 0.3333333333333333,\n",
       " 'fina...': 0.3333333333333333,\n",
       " '3': 0.3333333333333333,\n",
       " 'U': 0.6666666666666666,\n",
       " 'dun': 0.3333333333333333,\n",
       " 'early': 0.3333333333333333,\n",
       " 'hor...': 0.3333333333333333,\n",
       " 'c': 0.3333333333333333,\n",
       " 'say...': 0.3333333333333333,\n",
       " '4': 0.3333333333333333,\n",
       " 'Nah': 0.3333333333333333,\n",
       " 'I': 0.6666666666666666,\n",
       " 'think': 0.3333333333333333,\n",
       " 'goes': 0.3333333333333333,\n",
       " 'usf,': 0.3333333333333333,\n",
       " 'lives': 0.3333333333333333,\n",
       " 'aro...': 0.3333333333333333,\n",
       " '5567': 0.3333333333333333,\n",
       " 'This': 0.3333333333333333,\n",
       " '2nd': 0.3333333333333333,\n",
       " 'time': 0.3333333333333333,\n",
       " 'tried': 0.3333333333333333,\n",
       " 'contact': 0.3333333333333333,\n",
       " 'u...': 0.3333333333333333,\n",
       " '5568': 0.3333333333333333,\n",
       " 'Will': 0.3333333333333333,\n",
       " 'ü': 0.3333333333333333,\n",
       " 'b': 0.3333333333333333,\n",
       " 'going': 0.3333333333333333,\n",
       " 'esplanade': 0.3333333333333333,\n",
       " 'fr': 0.3333333333333333,\n",
       " 'home?': 0.3333333333333333,\n",
       " '5569': 0.3333333333333333,\n",
       " 'Pity,': 0.3333333333333333,\n",
       " '*': 0.3333333333333333,\n",
       " 'mood': 0.3333333333333333,\n",
       " 'that.': 0.3333333333333333,\n",
       " 'So...any': 0.3333333333333333,\n",
       " 's...': 0.3333333333333333,\n",
       " '5570': 0.3333333333333333,\n",
       " 'The': 0.3333333333333333,\n",
       " 'guy': 0.3333333333333333,\n",
       " 'bitching': 0.3333333333333333,\n",
       " 'acted': 0.3333333333333333,\n",
       " 'like': 0.3333333333333333,\n",
       " \"i'd...\": 0.3333333333333333,\n",
       " '5571': 0.3333333333333333,\n",
       " 'Rofl.': 0.3333333333333333,\n",
       " 'Its': 0.3333333333333333,\n",
       " 'true': 0.3333333333333333,\n",
       " 'Name:': 0.3333333333333333,\n",
       " 'Message,': 0.3333333333333333,\n",
       " 'Length:': 0.3333333333333333,\n",
       " '5572,': 0.3333333333333333,\n",
       " 'dtype:': 0.3333333333333333,\n",
       " 'object': 0.3333333333333333}"
      ]
     },
     "execution_count": 22,
     "metadata": {},
     "output_type": "execute_result"
    }
   ],
   "source": [
    "message.term_freq()"
   ]
  },
  {
   "cell_type": "code",
   "execution_count": 23,
   "id": "66e9df09-f16d-4147-b3e0-bb6ff9113d04",
   "metadata": {},
   "outputs": [],
   "source": [
    "mot = \"Je pense (mon avis) que le monde va faire sa fin. Les étudiants au Congo. 11, rue Mbondzi!\""
   ]
  },
  {
   "cell_type": "code",
   "execution_count": 24,
   "id": "5b4bcd04-2b27-42a9-863f-4f985f3668d7",
   "metadata": {},
   "outputs": [
    {
     "data": {
      "text/plain": [
       "TextFrame(text=\"Je pense (mon avis) que le monde va faire sa fin. Les étudiants au Congo. 11, rue Mbondzi!\")"
      ]
     },
     "execution_count": 24,
     "metadata": {},
     "output_type": "execute_result"
    }
   ],
   "source": [
    "text = nt.TextFrame(mot)\n",
    "text"
   ]
  },
  {
   "cell_type": "code",
   "execution_count": 29,
   "id": "29c71df6-9ef8-4bed-ac9c-3c6d565aa018",
   "metadata": {},
   "outputs": [
    {
     "data": {
      "text/plain": [
       "0    Je pense (mon avis) que le monde va faire sa f...\n",
       "dtype: object"
      ]
     },
     "execution_count": 29,
     "metadata": {},
     "output_type": "execute_result"
    }
   ],
   "source": [
    "m = pd.Series(mot)\n",
    "m"
   ]
  },
  {
   "cell_type": "code",
   "execution_count": 31,
   "id": "3fe553d3-d38c-4466-8338-499dbec9cca1",
   "metadata": {},
   "outputs": [
    {
     "data": {
      "text/plain": [
       "0    [(que le monde va, ORG, 20, 35), (Congo, GPE, ...\n",
       "dtype: object"
      ]
     },
     "execution_count": 31,
     "metadata": {},
     "output_type": "execute_result"
    }
   ],
   "source": [
    "hero.named_entities(m)"
   ]
  },
  {
   "cell_type": "code",
   "execution_count": 34,
   "id": "c795f9f8-2b5f-4116-a70a-a3758aecee30",
   "metadata": {},
   "outputs": [
    {
     "data": {
      "text/plain": [
       "0    je pens (mon avis) que le mond va fair sa fin....\n",
       "dtype: object"
      ]
     },
     "execution_count": 34,
     "metadata": {},
     "output_type": "execute_result"
    }
   ],
   "source": [
    "hero.stem(m)"
   ]
  },
  {
   "cell_type": "code",
   "execution_count": 38,
   "id": "24c18b8b-6c0f-479e-9252-9fa9cd5f568d",
   "metadata": {},
   "outputs": [],
   "source": [
    "from nltk.corpus import stopwords"
   ]
  },
  {
   "cell_type": "code",
   "execution_count": 39,
   "id": "44656025-1de1-4df0-91e7-04163acb4f9a",
   "metadata": {},
   "outputs": [
    {
     "data": {
      "text/plain": [
       "0    Je pense ( avis)   monde va faire  fin. Les ét...\n",
       "dtype: object"
      ]
     },
     "execution_count": 39,
     "metadata": {},
     "output_type": "execute_result"
    }
   ],
   "source": [
    "stop_words = stopwords.words(\"french\")\n",
    "hero.remove_stopwords(m, stop_words)"
   ]
  },
  {
   "cell_type": "code",
   "execution_count": null,
   "id": "85d9933a-277a-4bf3-bf2f-03a68f58a88c",
   "metadata": {},
   "outputs": [],
   "source": []
  }
 ],
 "metadata": {
  "kernelspec": {
   "display_name": "Python 3 (ipykernel)",
   "language": "python",
   "name": "python3"
  },
  "language_info": {
   "codemirror_mode": {
    "name": "ipython",
    "version": 3
   },
   "file_extension": ".py",
   "mimetype": "text/x-python",
   "name": "python",
   "nbconvert_exporter": "python",
   "pygments_lexer": "ipython3",
   "version": "3.9.18"
  },
  "widgets": {
   "application/vnd.jupyter.widget-state+json": {
    "state": {},
    "version_major": 2,
    "version_minor": 0
   }
  }
 },
 "nbformat": 4,
 "nbformat_minor": 5
}
